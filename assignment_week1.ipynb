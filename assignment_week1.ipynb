{
 "cells": [
  {
   "cell_type": "markdown",
   "id": "65b646e2-bac4-45bd-9e75-12c47ef5fb1d",
   "metadata": {},
   "source": [
    "Q1. Create one variable containing following type of data:"
   ]
  },
  {
   "cell_type": "code",
   "execution_count": 1,
   "id": "297521b4-9696-49e9-8b33-d25898f49ee7",
   "metadata": {},
   "outputs": [],
   "source": [
    "s =\"string\""
   ]
  },
  {
   "cell_type": "code",
   "execution_count": 3,
   "id": "89b66586-7511-4365-b699-9465738465ae",
   "metadata": {},
   "outputs": [
    {
     "data": {
      "text/plain": [
       "str"
      ]
     },
     "execution_count": 3,
     "metadata": {},
     "output_type": "execute_result"
    }
   ],
   "source": [
    "type(s)"
   ]
  },
  {
   "cell_type": "code",
   "execution_count": 4,
   "id": "98cdfdb9-4326-49d2-95af-690a7575b04b",
   "metadata": {},
   "outputs": [
    {
     "data": {
      "text/plain": [
       "list"
      ]
     },
     "execution_count": 4,
     "metadata": {},
     "output_type": "execute_result"
    }
   ],
   "source": [
    "l = [1,2, \"aa\", 4.5]\n",
    "type(l)\n"
   ]
  },
  {
   "cell_type": "code",
   "execution_count": 5,
   "id": "cd8232af-de39-452a-ba0e-cbdedd03d62e",
   "metadata": {},
   "outputs": [],
   "source": [
    "f = 4.5"
   ]
  },
  {
   "cell_type": "code",
   "execution_count": 6,
   "id": "bd8d30ed-4f01-4c78-a10f-adb46a3be298",
   "metadata": {},
   "outputs": [
    {
     "data": {
      "text/plain": [
       "float"
      ]
     },
     "execution_count": 6,
     "metadata": {},
     "output_type": "execute_result"
    }
   ],
   "source": [
    "type(f)"
   ]
  },
  {
   "cell_type": "code",
   "execution_count": 9,
   "id": "5fca677a-e118-4fef-8a06-f2da446e53a3",
   "metadata": {},
   "outputs": [],
   "source": [
    "t = (4,5, \"tuple\")"
   ]
  },
  {
   "cell_type": "code",
   "execution_count": 10,
   "id": "5f5f8b8e-f9c4-4140-9a6e-f5428e5ac37c",
   "metadata": {},
   "outputs": [
    {
     "data": {
      "text/plain": [
       "tuple"
      ]
     },
     "execution_count": 10,
     "metadata": {},
     "output_type": "execute_result"
    }
   ],
   "source": [
    "type(t)\n"
   ]
  },
  {
   "cell_type": "markdown",
   "id": "eba5e49f-65e5-4a7c-b138-6978ffb67ebe",
   "metadata": {},
   "source": [
    "Q2. Given are some following variables containing data:"
   ]
  },
  {
   "cell_type": "code",
   "execution_count": 11,
   "id": "8b292a9c-d2fe-453d-a7b8-c7853ec20a32",
   "metadata": {},
   "outputs": [],
   "source": [
    "var1=''"
   ]
  },
  {
   "cell_type": "code",
   "execution_count": 12,
   "id": "854bd64a-6905-4e7e-aef2-0e6e940ca83a",
   "metadata": {},
   "outputs": [
    {
     "data": {
      "text/plain": [
       "str"
      ]
     },
     "execution_count": 12,
     "metadata": {},
     "output_type": "execute_result"
    }
   ],
   "source": [
    "type(var1)"
   ]
  },
  {
   "cell_type": "code",
   "execution_count": 15,
   "id": "aa7b37f8-5f87-48a8-b404-6303174d536a",
   "metadata": {},
   "outputs": [
    {
     "data": {
      "text/plain": [
       "str"
      ]
     },
     "execution_count": 15,
     "metadata": {},
     "output_type": "execute_result"
    }
   ],
   "source": [
    "var2 = '[ DS , ML , Python]'\n",
    "type(var2)"
   ]
  },
  {
   "cell_type": "code",
   "execution_count": 16,
   "id": "568646d8-1e7f-4ec9-b594-406c1e5f3f08",
   "metadata": {},
   "outputs": [],
   "source": [
    "var3 = [ 'DS' , 'ML' , 'Python' ]"
   ]
  },
  {
   "cell_type": "code",
   "execution_count": 17,
   "id": "508f986e-9372-4dd3-88ca-d300a57c2fe1",
   "metadata": {},
   "outputs": [
    {
     "data": {
      "text/plain": [
       "list"
      ]
     },
     "execution_count": 17,
     "metadata": {},
     "output_type": "execute_result"
    }
   ],
   "source": [
    "type(var3)"
   ]
  },
  {
   "cell_type": "code",
   "execution_count": 18,
   "id": "4694b896-40e3-4184-b72a-a782799d2c08",
   "metadata": {},
   "outputs": [],
   "source": [
    "var4 =1."
   ]
  },
  {
   "cell_type": "code",
   "execution_count": 19,
   "id": "21876c55-ec8b-4a03-a22d-d9c48c813d6b",
   "metadata": {},
   "outputs": [
    {
     "data": {
      "text/plain": [
       "float"
      ]
     },
     "execution_count": 19,
     "metadata": {},
     "output_type": "execute_result"
    }
   ],
   "source": [
    "type(var4)"
   ]
  },
  {
   "cell_type": "markdown",
   "id": "c570f450-43da-4f17-8d43-29cc68024504",
   "metadata": {},
   "source": [
    "Q3. Explain the use of the following operators using an example:"
   ]
  },
  {
   "cell_type": "markdown",
   "id": "f2f388da-0497-4414-b70d-912340301d0a",
   "metadata": {},
   "source": [
    "\"/\" Division operator\n"
   ]
  },
  {
   "cell_type": "code",
   "execution_count": 20,
   "id": "2c5b5411-7a1b-4763-b57e-63e8449eccf6",
   "metadata": {},
   "outputs": [
    {
     "data": {
      "text/plain": [
       "1.25"
      ]
     },
     "execution_count": 20,
     "metadata": {},
     "output_type": "execute_result"
    }
   ],
   "source": [
    "5/4"
   ]
  },
  {
   "cell_type": "markdown",
   "id": "3890db86-2f46-4068-9b94-6f6d138144b4",
   "metadata": {},
   "source": [
    "\"%\" modulus operator return reminder\n"
   ]
  },
  {
   "cell_type": "code",
   "execution_count": 21,
   "id": "71cc4512-b829-4d35-baa8-ddffd2b069e4",
   "metadata": {},
   "outputs": [
    {
     "data": {
      "text/plain": [
       "1"
      ]
     },
     "execution_count": 21,
     "metadata": {},
     "output_type": "execute_result"
    }
   ],
   "source": [
    "5%4"
   ]
  },
  {
   "cell_type": "markdown",
   "id": "b5082120-1983-4016-95be-c70260cb50c0",
   "metadata": {},
   "source": [
    "\"//\" gives quotient value on divison"
   ]
  },
  {
   "cell_type": "code",
   "execution_count": 25,
   "id": "e7108c88-13db-4541-b07b-37182020b566",
   "metadata": {},
   "outputs": [
    {
     "data": {
      "text/plain": [
       "1"
      ]
     },
     "execution_count": 25,
     "metadata": {},
     "output_type": "execute_result"
    }
   ],
   "source": [
    "7//4"
   ]
  },
  {
   "cell_type": "markdown",
   "id": "6616f582-9f66-49b4-aa3b-17ec648aaa55",
   "metadata": {},
   "source": [
    "\"**\" return exponential value like 2 raise to 3 = 8"
   ]
  },
  {
   "cell_type": "code",
   "execution_count": 26,
   "id": "64193f0e-3d58-432f-8f74-45a9e307a8d6",
   "metadata": {},
   "outputs": [
    {
     "data": {
      "text/plain": [
       "8"
      ]
     },
     "execution_count": 26,
     "metadata": {},
     "output_type": "execute_result"
    }
   ],
   "source": [
    "2**3"
   ]
  },
  {
   "cell_type": "code",
   "execution_count": 27,
   "id": "484bcae6-d837-4c86-b620-e83df090f1a6",
   "metadata": {},
   "outputs": [
    {
     "data": {
      "text/plain": [
       "625"
      ]
     },
     "execution_count": 27,
     "metadata": {},
     "output_type": "execute_result"
    }
   ],
   "source": [
    "5**4"
   ]
  },
  {
   "cell_type": "markdown",
   "id": "74fdd825-1d00-4c86-af2d-cd76c89f4390",
   "metadata": {},
   "source": [
    "Q4. Create a list of length 10 of your choice containing multiple types of data. Using for loop print the\n",
    "element and its data type."
   ]
  },
  {
   "cell_type": "code",
   "execution_count": 32,
   "id": "1f593ca0-9a4e-459b-b9e9-15013a3d9ae1",
   "metadata": {},
   "outputs": [],
   "source": [
    "l = [1,2.0,\"string\", 5+6j, True, False, (\"a\",\"b\",4), 8,9, 10]"
   ]
  },
  {
   "cell_type": "code",
   "execution_count": 33,
   "id": "05167b38-d91a-4f88-96ef-10f6eb35d61f",
   "metadata": {},
   "outputs": [
    {
     "name": "stdout",
     "output_type": "stream",
     "text": [
      "1\n",
      "2.0\n",
      "string\n",
      "(5+6j)\n",
      "True\n",
      "False\n",
      "('a', 'b', 4)\n",
      "8\n",
      "9\n",
      "10\n"
     ]
    }
   ],
   "source": [
    "for x in l:\n",
    "    print(x)"
   ]
  },
  {
   "cell_type": "markdown",
   "id": "48b2cd74-55ae-491a-9e08-8c63c9432d63",
   "metadata": {},
   "source": [
    "Q5. Using a while loop, verify if the number A is purely divisible by number B and if so then how many\n",
    "times it can be divisible."
   ]
  },
  {
   "cell_type": "code",
   "execution_count": 6,
   "id": "41983a8a-285b-497e-ae68-4e75ab08b007",
   "metadata": {},
   "outputs": [
    {
     "name": "stdin",
     "output_type": "stream",
     "text": [
      " 10\n",
      " 2\n"
     ]
    },
    {
     "name": "stdout",
     "output_type": "stream",
     "text": [
      "Fully divisible times=\n",
      "5\n"
     ]
    }
   ],
   "source": [
    "A=int(input())\n",
    "B=int(input())\n",
    "while B > 0 and A%B==0 :\n",
    "    print(\"Fully divisible times=\")\n",
    "    print(A//B)\n",
    "    break\n",
    "else :\n",
    "    print(\"Number not fully divisible\")"
   ]
  },
  {
   "cell_type": "markdown",
   "id": "5f2b6407-018b-48ce-bee1-022c5dfe93cf",
   "metadata": {},
   "source": [
    "Q6. Create a list containing 25 int type data. Using for loop and if-else condition print if the element is\n",
    "divisible by 3 or not."
   ]
  },
  {
   "cell_type": "code",
   "execution_count": 11,
   "id": "99578b75-7758-4c25-9748-4074314569d7",
   "metadata": {},
   "outputs": [],
   "source": [
    "l = range(25)"
   ]
  },
  {
   "cell_type": "code",
   "execution_count": 12,
   "id": "54487850-f75f-40a9-a77b-05623b0170bb",
   "metadata": {},
   "outputs": [
    {
     "name": "stdout",
     "output_type": "stream",
     "text": [
      "3 divisible 3\n",
      "6 divisible 3\n",
      "9 divisible 3\n",
      "12 divisible 3\n",
      "15 divisible 3\n",
      "18 divisible 3\n",
      "21 divisible 3\n",
      "24 divisible 3\n"
     ]
    }
   ],
   "source": [
    "for i in l:\n",
    "    if i> 0 and i%3 == 0 :\n",
    "        print(str(i) + \" divisible 3\")"
   ]
  },
  {
   "cell_type": "markdown",
   "id": "96cf017a-9f5a-4491-95a1-5592dcc5fad8",
   "metadata": {},
   "source": [
    "Q7. What do you understand about mutable and immutable data types? Give examples for both showing\n",
    "this property."
   ]
  },
  {
   "cell_type": "markdown",
   "id": "70b76eb8-c3cd-43b6-a605-58fe1683439f",
   "metadata": {},
   "source": [
    "mutable -> value can be updated, \n",
    "immutable -> value cannot be updated but it can be replaced"
   ]
  },
  {
   "cell_type": "code",
   "execution_count": 15,
   "id": "7f7af04c-bb7d-4975-bd52-7248b65f82ae",
   "metadata": {},
   "outputs": [
    {
     "ename": "TypeError",
     "evalue": "'str' object does not support item assignment",
     "output_type": "error",
     "traceback": [
      "\u001b[0;31m---------------------------------------------------------------------------\u001b[0m",
      "\u001b[0;31mTypeError\u001b[0m                                 Traceback (most recent call last)",
      "Cell \u001b[0;32mIn[15], line 2\u001b[0m\n\u001b[1;32m      1\u001b[0m s \u001b[38;5;241m=\u001b[39m \u001b[38;5;124m\"\u001b[39m\u001b[38;5;124mabcd\u001b[39m\u001b[38;5;124m\"\u001b[39m\n\u001b[0;32m----> 2\u001b[0m \u001b[43ms\u001b[49m\u001b[43m[\u001b[49m\u001b[38;5;241;43m1\u001b[39;49m\u001b[43m]\u001b[49m \u001b[38;5;241m=\u001b[39m \u001b[38;5;124m\"\u001b[39m\u001b[38;5;124mx\u001b[39m\u001b[38;5;124m\"\u001b[39m \u001b[38;5;66;03m# cannot be updated\u001b[39;00m\n",
      "\u001b[0;31mTypeError\u001b[0m: 'str' object does not support item assignment"
     ]
    }
   ],
   "source": [
    "s = \"abcd\"\n",
    "s[1] = \"x\" # cannot be updated\n"
   ]
  },
  {
   "cell_type": "code",
   "execution_count": 17,
   "id": "ac9b5836-299e-4162-aebb-37cc7014f5a8",
   "metadata": {},
   "outputs": [
    {
     "name": "stdout",
     "output_type": "stream",
     "text": [
      "xyzs\n"
     ]
    }
   ],
   "source": [
    "s = \"xyzs\" #value can be replaced\n",
    "print(s)"
   ]
  },
  {
   "cell_type": "code",
   "execution_count": 19,
   "id": "cbf572af-af05-41b7-b82a-38fc8446588f",
   "metadata": {},
   "outputs": [
    {
     "name": "stdout",
     "output_type": "stream",
     "text": [
      "['a', 'M', 'c', 'd']\n"
     ]
    }
   ],
   "source": [
    "l = ['a','b','c','d'] \n",
    "l[1] = 'M'\n",
    "print(l) # value updated in list (mutable)"
   ]
  },
  {
   "cell_type": "code",
   "execution_count": null,
   "id": "734f3053-b456-47c1-a718-f941d5cfc0c5",
   "metadata": {},
   "outputs": [],
   "source": []
  }
 ],
 "metadata": {
  "kernelspec": {
   "display_name": "Python 3 (ipykernel)",
   "language": "python",
   "name": "python3"
  },
  "language_info": {
   "codemirror_mode": {
    "name": "ipython",
    "version": 3
   },
   "file_extension": ".py",
   "mimetype": "text/x-python",
   "name": "python",
   "nbconvert_exporter": "python",
   "pygments_lexer": "ipython3",
   "version": "3.10.8"
  }
 },
 "nbformat": 4,
 "nbformat_minor": 5
}
